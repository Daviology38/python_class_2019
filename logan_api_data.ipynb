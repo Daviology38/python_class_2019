{
 "cells": [
  {
   "cell_type": "code",
   "execution_count": null,
   "metadata": {},
   "outputs": [],
   "source": [
    "from PIL import Image, ImageDraw, ImageFont\n",
    "from noaa_sdk import noaa\n",
    "import astral\n",
    "import datetime\n",
    "import os"
   ]
  },
  {
   "cell_type": "code",
   "execution_count": null,
   "metadata": {},
   "outputs": [],
   "source": [
    "#Open the NWS API in python to get the current weather condition and RH\n",
    "n = noaa.NOAA()\n",
    "observations = n.get_observations('02128','US')"
   ]
  },
  {
   "cell_type": "code",
   "execution_count": null,
   "metadata": {},
   "outputs": [],
   "source": [
    "obs = next(observations)"
   ]
  },
  {
   "cell_type": "code",
   "execution_count": null,
   "metadata": {
    "lines_to_next_cell": 2
   },
   "outputs": [],
   "source": [
    "temp = obs['temperature'] #degC\n",
    "temp = (temp['value'] * 9/5)+32\n",
    "dp = obs['dewpoint'] #degC\n",
    "dp = (dp['value'] * 9/5) + 32\n",
    "description = obs['textDescription']\n",
    "wdir = obs['windDirection'] #degrees\n",
    "wspd = obs['windSpeed'] #m/s\n",
    "if(wspd['value'] == None):\n",
    "    wspd['value'] = 0.00\n",
    "wspd = wspd['value'] * 2.23694\n",
    "wgust = obs['windGust'] # m/s\n",
    "press = obs['seaLevelPressure'] #in Pa\n",
    "time = obs['timestamp'] #in Datetime\n",
    "vis = obs['visibility'] #Note in meters\n",
    "if(vis['value'] == None):\n",
    "    vis['value'] = 0.00\n",
    "rh = obs['relativeHumidity'] #%\n",
    "precip_last_hour = obs['precipitationLastHour'] #meters\n",
    "if(precip_last_hour['value'] == None):\n",
    "    precip_last_hour = 0.00\n",
    "else:\n",
    "    precip_last_hour = precip_last_hour['value'] * 39.37"
   ]
  },
  {
   "cell_type": "markdown",
   "metadata": {},
   "source": [
    "Choose the image based on the description"
   ]
  },
  {
   "cell_type": "code",
   "execution_count": null,
   "metadata": {
    "lines_to_next_cell": 2
   },
   "outputs": [],
   "source": [
    "if(\"Cloudy\" in description):\n",
    "    image = \"cloudy.png\"\n",
    "elif(\"Fair\" in description):\n",
    "    image = \"clear.png\"\n",
    "elif(\"Clear\" in description):\n",
    "    image = \"clear.png\"\n",
    "elif(\"Overcast\" in description):\n",
    "    image = \"overcast.png\"\n",
    "elif(\"Fog\" in description):\n",
    "    image = \"fog.png\"\n",
    "elif(\"Freezing\" in description):\n",
    "    image = \"freezing.png\"\n",
    "elif(\"Rain\" in description):\n",
    "    image = \"rain.png\"\n",
    "elif(\"Ice\" in description):\n",
    "    image = \"ice.png\"\n",
    "elif(\"Snow\" in description):\n",
    "    image = \"snow.png\"\n",
    "elif(\"Breezy\" in description):\n",
    "    image = \"windy.png\"\n",
    "elif(\"Showers\" in description):\n",
    "    image = \"rain_showers.png\"\n",
    "else:\n",
    "    image = \"clear.png\""
   ]
  },
  {
   "cell_type": "code",
   "execution_count": null,
   "metadata": {},
   "outputs": [],
   "source": [
    "filepath = \"/home/metweb/public_html/UMLStorm/nws_kbox/\"\n",
    "wind_dir = wdir['value']"
   ]
  },
  {
   "cell_type": "code",
   "execution_count": null,
   "metadata": {
    "lines_to_next_cell": 2
   },
   "outputs": [],
   "source": [
    "if(wind_dir >= 349 or wind_dir <= 11):\n",
    "    filepath = filepath + 'North.png'\n",
    "elif(wind_dir >= 12 and wind_dir <= 78):\n",
    "    filepath = filepath + 'Northeast.png'\n",
    "elif(wind_dir >= 79 and wind_dir <= 101):\n",
    "    filepath = filepath + 'East.png'\n",
    "elif(wind_dir >= 102 and wind_dir <=168):\n",
    "    filepath = filepath + 'Southeast.png'\n",
    "elif(wind_dir >= 169 and wind_dir <= 191):\n",
    "    filepath = filepath + 'South.png'\n",
    "elif(wind_dir >= 192 and wind_dir <= 258):\n",
    "    filepath = filepath + 'Southwest.png'\n",
    "elif(wind_dir >= 259 and wind_dir <= 281):\n",
    "    filepath = filepath + 'West.png'\n",
    "elif(wind_dir >= 281 and wind_dir <= 348):\n",
    "    filepath = filepath + 'Northwest.png'\n",
    "else:\n",
    "    filepath = ''"
   ]
  },
  {
   "cell_type": "code",
   "execution_count": null,
   "metadata": {},
   "outputs": [],
   "source": [
    "FT_PER_METRE = 3.2808399\n",
    "# Construct our location.  Longitude west and latitude south are\n",
    "# negative.\n",
    "los_altos = astral.Location(info=(\"Boston\", \"USA\", 42.36,\n",
    "                                  -71.01, \"America/New_York\",\n",
    "                                  20/FT_PER_METRE))"
   ]
  },
  {
   "cell_type": "code",
   "execution_count": null,
   "metadata": {},
   "outputs": [],
   "source": [
    "# \"civil\", which means 6 degrees below the horizon, is the default\n",
    "# value for computing dawn and dusk.  But this usage shows how to\n",
    "# set it before calculation.\n",
    "los_altos.solar_depression = \"civil\""
   ]
  },
  {
   "cell_type": "code",
   "execution_count": null,
   "metadata": {},
   "outputs": [],
   "source": [
    "tomorrow = datetime.date.today()"
   ]
  },
  {
   "cell_type": "code",
   "execution_count": null,
   "metadata": {},
   "outputs": [],
   "source": [
    "result = los_altos.sun(date=tomorrow)"
   ]
  },
  {
   "cell_type": "code",
   "execution_count": null,
   "metadata": {},
   "outputs": [],
   "source": [
    "sunrise = result['sunrise'].strftime('%H:%M %p')\n",
    "sunset = result['sunset'].strftime('%H:%M')\n",
    "sunset = result['sunset'].strptime(sunset,'%H:%M')\n",
    "sunset = sunset.strftime('%I:%M %p')"
   ]
  },
  {
   "cell_type": "code",
   "execution_count": null,
   "metadata": {},
   "outputs": [],
   "source": [
    "wind_image = Image.open(filepath)\n",
    "wind_image = wind_image.resize([65,65])"
   ]
  },
  {
   "cell_type": "code",
   "execution_count": null,
   "metadata": {},
   "outputs": [],
   "source": [
    "iconimage = Image.open(image)\n",
    "image2 = image\n",
    "if(image == 'rain.png' or image == 'snow.png' or image =='ice.png' or image == 'freezing.png' or image == 'fog.png' or image == 'windy.png' or image == 'overcast.png' or image == 'cloudy.png'):\n",
    "    iconimage = iconimage.resize([300,315])\n",
    "else:\n",
    "    iconimage = iconimage.resize([350,350])"
   ]
  },
  {
   "cell_type": "code",
   "execution_count": null,
   "metadata": {
    "lines_to_next_cell": 2
   },
   "outputs": [],
   "source": [
    "filename = \"/home/metweb/public_html/UMLStorm/nws_kbox/logan_wx.png\"\n",
    "image = Image.open(filename)\n",
    "draw = ImageDraw.Draw(image)\n",
    "#font = ImageFont.truetype(<font-file>, <font-size>)\n",
    "font = ImageFont.truetype(\"LexendDeca-Regular.ttf\", 48)\n",
    "font2 = ImageFont.truetype(\"LexendDeca-Regular.ttf\", 88)\n",
    "font3 = ImageFont.truetype(\"LexendDeca-Regular.ttf\", 55)\n",
    "font4 = ImageFont.truetype(\"LexendDeca-Regular.ttf\", 55)\n",
    "font5 = ImageFont.truetype(\"LexendDeca-Regular.ttf\", 32)\n",
    "font6 = ImageFont.truetype(\"LexendDeca-Regular.ttf\", 40)\n",
    "#draw.text((x, y),\"Sample Text\",(r,g,b))\n",
    "draw.text((140,90),\"Boston Current Conditions\", (255,255,255),font = font)\n",
    "if(len(str(round(wspd))) == 2):\n",
    "    draw.text((225,200),str(round(wspd)),(255,255,255),font=font3)\n",
    "else:\n",
    "    draw.text((245, 200), str(round(wspd)), (255, 255, 255), font=font3)\n",
    "draw.text((605,213),str(round(rh['value'])),(255,255,255),font=font3)\n",
    "draw.text((180,411),str(round(temp)) + ' F',(255,255,255),font=font4)\n",
    "draw.text((610,411),str(round(dp)) + \" F\",(255,255,255),font=font4)\n",
    "draw.text((333,436),\"Precip: \" + str(round(precip_last_hour,3)) + '\"',(255,255,255),font=font6)\n",
    "draw.text((370,516),sunrise,(255,255,255),font=font5)\n",
    "draw.text((580,516),sunset,(255,255,255),font=font5)\n",
    "draw.text((170,516),str(round(vis['value']/1609,2)) + ' miles',(255,255,255),font=font5)\n",
    "image.paste(wind_image, [165,215],wind_image.convert('RGBA'))\n",
    "if(image2 == 'rain.png' or image2 == 'snow.png' or image2 =='ice.png' or image2 == 'freezing.png' or image2 == 'fog.png' or image2 == 'windy.png' or image2 == 'overcast.png' or image2 == 'cloudy.png'):\n",
    "    image.paste(iconimage, [290,140], iconimage.convert('RGBA'))\n",
    "else:\n",
    "    image.paste(iconimage, [255,140], iconimage.convert('RGBA'))\n",
    "image.save('current.png')"
   ]
  }
 ],
 "metadata": {
  "jupytext": {
   "cell_metadata_filter": "-all",
   "main_language": "python",
   "notebook_metadata_filter": "-all"
  }
 },
 "nbformat": 4,
 "nbformat_minor": 2
}
