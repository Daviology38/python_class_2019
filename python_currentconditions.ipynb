{
 "cells": [
  {
   "cell_type": "code",
   "execution_count": null,
   "metadata": {},
   "outputs": [],
   "source": [
    "\"\"\"\n",
    "Created on Mon Jul 15 09:33:10 2019\n",
    "\n",
    "@author: mariofire\n",
    "\"\"\""
   ]
  },
  {
   "cell_type": "code",
   "execution_count": null,
   "metadata": {},
   "outputs": [],
   "source": [
    "from PIL import Image, ImageDraw, ImageFont\n",
    "from noaa_sdk import noaa\n",
    "import astral\n",
    "import datetime\n",
    "import os"
   ]
  },
  {
   "cell_type": "markdown",
   "metadata": {},
   "source": [
    "Open the text file on our server with our data\n",
    "Data is in order:\n",
    "Blank\n",
    "Time\n",
    "Temp\n",
    "Dew Point\n",
    "Wind Speed\n",
    "Pressure\n",
    "Wind Direction\n",
    "High Temp Today\n",
    "Low Temp Today\n",
    "Precip"
   ]
  },
  {
   "cell_type": "code",
   "execution_count": null,
   "metadata": {},
   "outputs": [],
   "source": [
    "#Open the NWS API in python to get the current weather condition and RH\n",
    "n = noaa.NOAA()\n",
    "observations = n.stations_observations('KBOS',current=True)\n",
    "obs = observations"
   ]
  },
  {
   "cell_type": "code",
   "execution_count": null,
   "metadata": {
    "lines_to_next_cell": 2
   },
   "outputs": [],
   "source": [
    "temp = obs['properties']['temperature'] #degC\n",
    "temp = (temp['value'] * 9/5)+32\n",
    "dp = obs['properties']['dewpoint'] #degC\n",
    "dp = (dp['value'] * 9/5) + 32\n",
    "description = obs['properties']['textDescription']\n",
    "wdir = obs['properties']['windDirection'] #degrees\n",
    "if(wdir['value'] == None):\n",
    "    wdir['value'] = 0\n",
    "wspd = obs['properties']['windSpeed'] #m/s\n",
    "if(wspd['value'] == None):\n",
    "    wspd['value'] = 0.00\n",
    "print(wspd['value'])\n",
    "wspd = wspd['value'] * 2.23694\n",
    "wgust = obs['properties']['windGust'] # m/s\n",
    "press = obs['properties']['seaLevelPressure'] #in Pa\n",
    "time = obs['properties']['timestamp'] #in Datetime\n",
    "vis = obs['properties']['visibility'] #Note in meters\n",
    "if(vis['value'] == None):\n",
    "    vis['value'] = 0.00\n",
    "rh = obs['properties']['relativeHumidity'] #%\n",
    "precip_last_hour = obs['properties']['precipitationLastHour'] #meters\n",
    "if(precip_last_hour['value'] == None):\n",
    "    precip_last_hour = 0.00\n",
    "else:\n",
    "    precip_last_hour = precip_last_hour['value'] * 39.37"
   ]
  },
  {
   "cell_type": "markdown",
   "metadata": {},
   "source": [
    "Choose the image based on the description"
   ]
  },
  {
   "cell_type": "code",
   "execution_count": null,
   "metadata": {
    "lines_to_next_cell": 2
   },
   "outputs": [],
   "source": [
    "if(\"Cloudy\" in description):\n",
    "    image = \"cloudy.png\"\n",
    "elif(\"Fair\" in description):\n",
    "    image = \"clear.png\"\n",
    "elif(\"Clear\" in description):\n",
    "    image = \"clear.png\"\n",
    "elif(\"Overcast\" in description):\n",
    "    image = \"overcast.png\"\n",
    "elif(\"Fog\" in description):\n",
    "    image = \"fog.png\"\n",
    "elif(\"Freezing\" in description):\n",
    "    image = \"freezing.png\"\n",
    "elif(\"Rain\" in description):\n",
    "    image = \"rain.png\"\n",
    "elif(\"Ice\" in description):\n",
    "    image = \"ice.png\"\n",
    "elif(\"Snow\" in description):\n",
    "    image = \"snow.png\"\n",
    "elif(\"Breezy\" in description):\n",
    "    image = \"windy.png\"\n",
    "elif(\"Showers\" in description):\n",
    "    image = \"rain_showers.png\"\n",
    "elif(\"Thunder\" in description):\n",
    "    image = \"thunder.png\"\n",
    "else:\n",
    "    image = \"clear.png\""
   ]
  },
  {
   "cell_type": "code",
   "execution_count": null,
   "metadata": {},
   "outputs": [],
   "source": [
    "filepath = \"/home/metweb/public_html/UMLStorm/nws_kbox/\"\n",
    "wind_dir = wdir['value']"
   ]
  },
  {
   "cell_type": "code",
   "execution_count": null,
   "metadata": {
    "lines_to_next_cell": 2
   },
   "outputs": [],
   "source": [
    "if(wind_dir >= 349 or wind_dir <= 11):\n",
    "    filepath = filepath + 'North.png'\n",
    "elif(wind_dir >= 12 and wind_dir <= 78):\n",
    "    filepath = filepath + 'Northeast.png'\n",
    "elif(wind_dir >= 79 and wind_dir <= 101):\n",
    "    filepath = filepath + 'East.png'\n",
    "elif(wind_dir >= 102 and wind_dir <=168):\n",
    "    filepath = filepath + 'Southeast.png'\n",
    "elif(wind_dir >= 169 and wind_dir <= 191):\n",
    "    filepath = filepath + 'South.png'\n",
    "elif(wind_dir >= 192 and wind_dir <= 258):\n",
    "    filepath = filepath + 'Southwest.png'\n",
    "elif(wind_dir >= 259 and wind_dir <= 281):\n",
    "    filepath = filepath + 'West.png'\n",
    "elif(wind_dir >= 281 and wind_dir <= 348):\n",
    "    filepath = filepath + 'Northwest.png'\n",
    "else:\n",
    "    filepath = ''"
   ]
  },
  {
   "cell_type": "code",
   "execution_count": null,
   "metadata": {},
   "outputs": [],
   "source": [
    "FT_PER_METRE = 3.2808399\n",
    "# Construct our location.  Longitude west and latitude south are\n",
    "# negative.\n",
    "los_altos = astral.Location(info=(\"Boston\", \"USA\", 42.36,\n",
    "                                  -71.01, \"America/New_York\",\n",
    "                                  20/FT_PER_METRE))"
   ]
  },
  {
   "cell_type": "code",
   "execution_count": null,
   "metadata": {},
   "outputs": [],
   "source": [
    "# \"civil\", which means 6 degrees below the horizon, is the default\n",
    "# value for computing dawn and dusk.  But this usage shows how to\n",
    "# set it before calculation.\n",
    "los_altos.solar_depression = \"civil\""
   ]
  },
  {
   "cell_type": "code",
   "execution_count": null,
   "metadata": {},
   "outputs": [],
   "source": [
    "tomorrow = datetime.date.today()"
   ]
  },
  {
   "cell_type": "code",
   "execution_count": null,
   "metadata": {},
   "outputs": [],
   "source": [
    "result = los_altos.sun(date=tomorrow)"
   ]
  },
  {
   "cell_type": "code",
   "execution_count": null,
   "metadata": {},
   "outputs": [],
   "source": [
    "sunrise = result['sunrise'].strftime('%H:%M %p')\n",
    "sunset = result['sunset'].strftime('%H:%M')\n",
    "sunset = result['sunset'].strptime(sunset,'%H:%M')\n",
    "sunset = sunset.strftime('%I:%M %p')"
   ]
  },
  {
   "cell_type": "code",
   "execution_count": null,
   "metadata": {},
   "outputs": [],
   "source": [
    "wind_image = Image.open(filepath)\n",
    "wind_image = wind_image.resize([65,65])"
   ]
  },
  {
   "cell_type": "code",
   "execution_count": null,
   "metadata": {},
   "outputs": [],
   "source": [
    "iconimage = Image.open(image)\n",
    "image2 = image\n",
    "if(image == 'rain.png' or image == 'snow.png' or image =='ice.png' or image == 'freezing.png' or image == 'fog.png' or image == 'windy.png' or image == 'overcast.png' or image == 'cloudy.png'):\n",
    "    iconimage = iconimage.resize([400,400])\n",
    "else:\n",
    "    iconimage = iconimage.resize([450,450])"
   ]
  },
  {
   "cell_type": "code",
   "execution_count": null,
   "metadata": {},
   "outputs": [],
   "source": [
    "windchill = obs['properties']['windChill']['value']\n",
    "if(windchill == None):\n",
    "    windchill = 'NA'\n",
    "else:\n",
    "    windchill = (windchill * (9/5) ) + 32\n",
    "    windchill = round(windchill)"
   ]
  },
  {
   "cell_type": "code",
   "execution_count": null,
   "metadata": {
    "lines_to_next_cell": 2
   },
   "outputs": [],
   "source": [
    "time_now = datetime.datetime.now()\n",
    "time_now = datetime.datetime.strptime(time_now.strftime(\"%H:%M\"),\"%H:%M\")"
   ]
  },
  {
   "cell_type": "code",
   "execution_count": null,
   "metadata": {
    "lines_to_next_cell": 2
   },
   "outputs": [],
   "source": [
    "filename = \"currenttemplate.png\"\n",
    "image = Image.open(filename)\n",
    "draw = ImageDraw.Draw(image)\n",
    "#font = ImageFont.truetype(<font-file>, <font-size>)\n",
    "font = ImageFont.truetype(\"LexendDeca-Regular.ttf\", 136)\n",
    "font2 = ImageFont.truetype(\"LexendDeca-Regular.ttf\", 88)\n",
    "font3 = ImageFont.truetype(\"LexendDeca-Regular.ttf\", 55)\n",
    "font4 = ImageFont.truetype(\"LexendDeca-Regular.ttf\", 62)\n",
    "font5 = ImageFont.truetype(\"LexendDeca-Regular.ttf\", 47)\n",
    "font6 = ImageFont.truetype(\"LexendDeca-Regular.ttf\", 62)\n",
    "font7 = ImageFont.truetype(\"LexendDeca-Regular.ttf\", 42)\n",
    "font8 = ImageFont.truetype(\"LexendDeca-Regular.ttf\", 50)\n",
    "#draw.text((x, y),\"Sample Text\",(r,g,b))\n",
    "draw.text((380,215),str(round(temp)) + ' F',(255,255,255),font=font)\n",
    "draw.text((440,610),str(round(rh['value'])) + '%',(255,255,255),font=font2)\n",
    "draw.text((190,610),str(round(dp)) + \" F\",(255,255,255),font=font2)\n",
    "draw.text((780,620),str(round(wspd)) + \" mph\",(255,255,255),font=font7)\n",
    "draw.text((325,830),\"NA\",(255,255,255),font=font2)\n",
    "draw.text((585,830),str(windchill),(255,255,255),font=font2)\n",
    "draw.text((1648,663),time_now.strftime(\"%I:%M %p\"),(255,255,255),font=font8)\n",
    "draw.text((1148,730),str(round(vis['value']/1609,2)) + ' mi',(255,255,255),font=font4)\n",
    "draw.text((1150,915),str(round(press['value']/100,2)) + \" mb\",(255,255,255),font=font4)\n",
    "draw.text((1660,795),sunrise,(255,255,255),font=font5)\n",
    "draw.text((1660,955),sunset,(255,255,255),font=font5)\n",
    "draw.text((1130,70),\"CURRENT CONDITIONS\",(255,255,255),font=font6)\n",
    "image.paste(wind_image, [695,610],wind_image.convert('RGBA'))\n",
    "if(image2 == 'rain.png' or image2 == 'snow.png' or image2 =='ice.png' or image2 == 'freezing.png' or image2 == 'fog.png' or image2 == 'windy.png' or image2 == 'overcast.png' or image2 == 'cloudy.png'):\n",
    "    image.paste(iconimage, [1285,175], iconimage.convert('RGBA'))\n",
    "else:\n",
    "    image.paste(iconimage, [1285,175], iconimage.convert('RGBA'))\n",
    "image.save('current_alt.png')"
   ]
  }
 ],
 "metadata": {
  "jupytext": {
   "cell_metadata_filter": "-all",
   "encoding": "# -*- coding: utf-8 -*-",
   "executable": "/usr/bin/env python2",
   "main_language": "python",
   "notebook_metadata_filter": "-all"
  },
  "kernelspec": {
   "display_name": "Python 3",
   "language": "python",
   "name": "python3"
  },
  "language_info": {
   "codemirror_mode": {
    "name": "ipython",
    "version": 3
   },
   "file_extension": ".py",
   "mimetype": "text/x-python",
   "name": "python",
   "nbconvert_exporter": "python",
   "pygments_lexer": "ipython3",
   "version": "3.6.7"
  }
 },
 "nbformat": 4,
 "nbformat_minor": 2
}
