{
 "cells": [
  {
   "cell_type": "code",
   "execution_count": null,
   "metadata": {},
   "outputs": [],
   "source": [
    "\"\"\"\n",
    "Created on Thu Feb 14 20:48:27 2019\n",
    "\n",
    "@author: CoeFamily\n",
    "\"\"\""
   ]
  },
  {
   "cell_type": "code",
   "execution_count": null,
   "metadata": {},
   "outputs": [],
   "source": [
    "# -*- coding: utf-8 -*-\n",
    "\"\"\"\n",
    "Created on Tue Jan 15 13:17:09 2019\n",
    "\n",
    "@author: CoeFamily\n",
    "\"\"\""
   ]
  },
  {
   "cell_type": "code",
   "execution_count": null,
   "metadata": {
    "lines_to_next_cell": 1
   },
   "outputs": [],
   "source": [
    "from awips.dataaccess import DataAccessLayer\n",
    "from dynamicserialize.dstypes.com.raytheon.uf.common.time import TimeRange\n",
    "import numpy as np\n",
    "import cartopy.crs as ccrs\n",
    "import warnings\n",
    "import matplotlib.pyplot as plt\n",
    "from cartopy.feature import ShapelyFeature\n",
    "from shapely.geometry import Polygon\n",
    "from metpy.plots import StationPlot\n",
    "from cartopy.mpl.gridliner import LONGITUDE_FORMATTER, LATITUDE_FORMATTER\n",
    "import pytz\n",
    "from datetime import datetime, timedelta"
   ]
  },
  {
   "cell_type": "code",
   "execution_count": null,
   "metadata": {
    "lines_to_next_cell": 1
   },
   "outputs": [],
   "source": [
    "def is_dst(zonename):\n",
    "    tz = pytz.timezone(zonename)\n",
    "    now = pytz.utc.localize(datetime.utcnow())\n",
    "    return now.astimezone(tz).dst() != timedelta(0)"
   ]
  },
  {
   "cell_type": "code",
   "execution_count": null,
   "metadata": {},
   "outputs": [],
   "source": [
    "edexServer = \"edex-cloud.unidata.ucar.edu\"\n",
    "DataAccessLayer.changeEDEXHost(edexServer)\n",
    "# EDEX request for multiple states\n",
    "request = DataAccessLayer.newDataRequest('maps')\n",
    "request.addIdentifier('table', 'mapdata.states')\n",
    "request.addIdentifier('geomField', 'the_geom')\n",
    "request.addIdentifier('inLocation', 'true')\n",
    "request.addIdentifier('locationField', 'state')\n",
    "request.setParameters('state','name','lat','lon')\n",
    "request.setLocationNames('MA','CT','NH','ME','VT','RI','NY',)\n",
    "response = DataAccessLayer.getGeometryData(request)\n",
    "print(\"Found \" + str(len(response)) + \" MultiPolygons\")"
   ]
  },
  {
   "cell_type": "code",
   "execution_count": null,
   "metadata": {},
   "outputs": [],
   "source": [
    "# Append each geometry to a numpy array\n",
    "states = np.array([])\n",
    "for ob in response:\n",
    "    print(ob.getString('name'), ob.getString('state'), ob.getNumber('lat'), ob.getNumber('lon'))\n",
    "    states = np.append(states,ob.getGeometry())"
   ]
  },
  {
   "cell_type": "code",
   "execution_count": null,
   "metadata": {
    "lines_to_next_cell": 1
   },
   "outputs": [],
   "source": [
    "# New obs request\n",
    "edexServer = \"edex-cloud.unidata.ucar.edu\"\n",
    "DataAccessLayer.changeEDEXHost(edexServer)\n",
    "request = DataAccessLayer.newDataRequest('maps')\n",
    "request.addIdentifier('table', 'mapdata.states')\n",
    "request.addIdentifier('state', 'MA')\n",
    "request.addIdentifier('geomField', 'the_geom')\n",
    "request.setParameters('state','name','lat','lon')\n",
    "response = DataAccessLayer.getGeometryData(request)\n",
    "record = response[0]\n",
    "print(\"Found \" + str(len(response)) + \" MultiPolygon\")\n",
    "state={}\n",
    "state['name'] = record.getString('name')\n",
    "state['state'] = record.getString('state')\n",
    "state['lat'] = record.getNumber('lat')\n",
    "state['lon'] = record.getNumber('lon')\n",
    "#state['geom'] = record.getGeometry()\n",
    "state['bounds'] = record.getGeometry().bounds"
   ]
  },
  {
   "cell_type": "code",
   "execution_count": null,
   "metadata": {
    "lines_to_next_cell": 1
   },
   "outputs": [],
   "source": [
    "def make_map(bbox, proj=ccrs.PlateCarree()):\n",
    "    fig, ax = plt.subplots(figsize=(16,12),subplot_kw=dict(projection=proj))\n",
    "    ax.set_extent(bbox)\n",
    "    gl = ax.gridlines(draw_labels=True, color='#e7e7e7')\n",
    "    gl.xlabels_top = gl.ylabels_right = False\n",
    "    gl.xformatter = LONGITUDE_FORMATTER\n",
    "    gl.yformatter = LATITUDE_FORMATTER\n",
    "    return fig, ax"
   ]
  },
  {
   "cell_type": "code",
   "execution_count": null,
   "metadata": {},
   "outputs": [],
   "source": [
    "# buffer our bounds by +/i degrees lat/lon\n",
    "bounds = state['bounds']\n",
    "bbox=[bounds[0]-0.5,bounds[2]+0.5,bounds[1],bounds[3]+1.5]"
   ]
  },
  {
   "cell_type": "code",
   "execution_count": null,
   "metadata": {},
   "outputs": [],
   "source": [
    "fig, ax = make_map(bbox=bbox)\n",
    "shape_feature = ShapelyFeature(states,ccrs.PlateCarree(),\n",
    "                    facecolor='none', linestyle=\"-\",edgecolor='#000000',linewidth=2)\n",
    "ax.add_feature(shape_feature)"
   ]
  },
  {
   "cell_type": "code",
   "execution_count": null,
   "metadata": {
    "lines_to_next_cell": 2
   },
   "outputs": [],
   "source": [
    "# Create envelope geometry\n",
    "envelope = Polygon([(bbox[0],bbox[2]),(bbox[0],bbox[3]),\n",
    "                    (bbox[1], bbox[3]),(bbox[1],bbox[2]),\n",
    "                    (bbox[0],bbox[2])])"
   ]
  },
  {
   "cell_type": "code",
   "execution_count": null,
   "metadata": {},
   "outputs": [],
   "source": [
    "# New obs request\n",
    "DataAccessLayer.changeEDEXHost(edexServer)\n",
    "request = DataAccessLayer.newDataRequest(\"obs\", envelope=envelope)\n",
    "availableProducts = DataAccessLayer.getAvailableParameters(request)\n",
    "single_value_params = [\"timeObs\", \"stationName\", \"longitude\", \"latitude\",\n",
    "                       \"temperature\", \"dewpoint\", \"windDir\",\n",
    "                       \"windSpeed\", \"seaLevelPress\"]\n",
    "multi_value_params = [\"presWeather\", \"skyCover\", \"skyLayerBase\"]\n",
    "params = single_value_params + multi_value_params\n",
    "request.setParameters(*(params))"
   ]
  },
  {
   "cell_type": "code",
   "execution_count": null,
   "metadata": {},
   "outputs": [],
   "source": [
    "# Time range\n",
    "lastHourDateTime = datetime.utcnow() - timedelta(minutes = 60)\n",
    "start = lastHourDateTime.strftime('%Y-%m-%d %H:%M:%S')\n",
    "end = datetime.utcnow().strftime('%Y-%m-%d %H:%M:%S')"
   ]
  },
  {
   "cell_type": "code",
   "execution_count": null,
   "metadata": {},
   "outputs": [],
   "source": [
    "beginRange = datetime.strptime( start , \"%Y-%m-%d %H:%M:%S\")\n",
    "endRange = datetime.strptime( end , \"%Y-%m-%d %H:%M:%S\")\n",
    "timerange = TimeRange(beginRange, endRange)\n",
    "# Get response\n",
    "response = DataAccessLayer.getGeometryData(request,timerange)\n",
    "# function getMetarObs was added in python-awips 18.1.4\n",
    "obs = DataAccessLayer.getMetarObs(response)\n",
    "print(\"Found \" + str(len(response)) + \" records\")\n",
    "print(\"Using \" + str(len(obs['temperature'])) + \" temperature records\")\n",
    "# Create a station plot pointing to an Axes to draw on as well as the location of points\n",
    "now = datetime.now()\n",
    "hours = now.hour\n",
    "if(hours > 12):\n",
    "    hours = hours - 12\n",
    "    ampm = \"PM\"\n",
    "elif(hours == 12):\n",
    "    ampm = \"PM\"\n",
    "else:\n",
    "    ampm = \"AM\""
   ]
  },
  {
   "cell_type": "code",
   "execution_count": null,
   "metadata": {},
   "outputs": [],
   "source": [
    "timee = str(now.month) + \"-\" + str(now.day) + \"-\" + str(now.year) + \" \" + str(hours) + \":\" + str(now.minute) + \" \" + ampm\n",
    "ax.set_title(timee + \" | Current Surface Temps in Degrees F\", fontsize=20)"
   ]
  },
  {
   "cell_type": "code",
   "execution_count": null,
   "metadata": {},
   "outputs": [],
   "source": [
    "lats = obs['latitude']\n",
    "lons = obs['longitude']"
   ]
  },
  {
   "cell_type": "code",
   "execution_count": null,
   "metadata": {},
   "outputs": [],
   "source": [
    "thresholds = {\n",
    "    '15': 'purple',\n",
    "    '25': 'c',\n",
    "    '35': 'royalblue',\n",
    "    '45': 'darkgreen', \n",
    "    '55': 'green',\n",
    "    '65': 'y', \n",
    "    '75': 'orange',\n",
    "    '85': 'red'\n",
    "}"
   ]
  },
  {
   "cell_type": "code",
   "execution_count": null,
   "metadata": {},
   "outputs": [],
   "source": [
    "tempp = np.array(obs['temperature'], dtype=float)"
   ]
  },
  {
   "cell_type": "code",
   "execution_count": null,
   "metadata": {},
   "outputs": [],
   "source": [
    "if(len(tempp) > 14):\n",
    "\n",
    "\t# Suppress nan masking warnings\n",
    "\twarnings.filterwarnings(\"ignore\",category =RuntimeWarning)\n",
    "\n",
    "\tfor x, value in thresholds.items():\n",
    "    \t\ttair = np.array(obs['temperature'], dtype=float)\n",
    "    \t\ttair[tair == -9999.0] = 'nan'\n",
    "    \t\ttair = (tair*1.8)+32\n",
    "    \t\tif x==max(thresholds):\n",
    "       \t\t        tair[(tair < int(x))] = 'nan'\n",
    "    \t\telif x==min(thresholds):\n",
    "        \t\ttair[(tair >= int(x)+10)] = 'nan'\n",
    "    \t\telse:\n",
    "        \t\ttair[(tair < int(x))] = 'nan'\n",
    "        \t\ttair[(tair >= int(x)+10)] = 'nan'\n",
    "\n",
    "    \t\tstationplot = StationPlot(ax, lons, lats, transform=ccrs.PlateCarree(),\n",
    "                          \t\tfontsize=14)\n",
    "    \t\tstationplot.plot_parameter('C', tair, color=thresholds[str(x)])\n",
    "\n",
    "\tplt.savefig('temp.png', bbox_inches='tight', pad_inches= 0)"
   ]
  }
 ],
 "metadata": {
  "jupytext": {
   "cell_metadata_filter": "-all",
   "encoding": "# -*- coding: utf-8 -*-",
   "main_language": "python",
   "notebook_metadata_filter": "-all"
  }
 },
 "nbformat": 4,
 "nbformat_minor": 2
}
